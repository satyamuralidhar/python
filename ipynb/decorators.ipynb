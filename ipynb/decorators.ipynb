{
 "cells": [
  {
   "cell_type": "code",
   "execution_count": 1,
   "id": "0151de94",
   "metadata": {},
   "outputs": [],
   "source": [
    "#decorators\n",
    "\n",
    "#decorators are nothing adding addition functonality to the the existing function .\n",
    "\n",
    "def feat_div(func):\n",
    "    def inner(a,b):\n",
    "        if (a%2==0 and b%2==0) != True:\n",
    "            print(\"enter both are even values\")\n",
    "            return\n",
    "        return func(a,b)\n",
    "    return inner\n",
    "            \n",
    "\n",
    "@feat_div\n",
    "def div(a,b):\n",
    "    return a/b\n"
   ]
  },
  {
   "cell_type": "code",
   "execution_count": 2,
   "id": "664b87e0",
   "metadata": {},
   "outputs": [
    {
     "data": {
      "text/plain": [
       "0.2"
      ]
     },
     "execution_count": 2,
     "metadata": {},
     "output_type": "execute_result"
    }
   ],
   "source": [
    "div(2,10)"
   ]
  },
  {
   "cell_type": "code",
   "execution_count": 3,
   "id": "f9452784",
   "metadata": {},
   "outputs": [],
   "source": [
    "#decorators using if else condition\n",
    "\n",
    "def feat_add(dec):\n",
    "    def inner(x,y):\n",
    "        if x%2==0 and y%2==0:\n",
    "            return dec(x,y)\n",
    "        else:\n",
    "            print(f\"Got {x} and {y}: Please Enter Even Values\")\n",
    "        return\n",
    "    return inner\n",
    "\n",
    "@feat_add\n",
    "def add(a,b):\n",
    "    return a+b"
   ]
  },
  {
   "cell_type": "code",
   "execution_count": 4,
   "id": "4ed67b03",
   "metadata": {},
   "outputs": [
    {
     "name": "stdout",
     "output_type": "stream",
     "text": [
      "Got 2 and 7: Please Enter Even Values\n"
     ]
    }
   ],
   "source": [
    "add(2,7)"
   ]
  },
  {
   "cell_type": "code",
   "execution_count": null,
   "id": "48843411",
   "metadata": {},
   "outputs": [],
   "source": []
  }
 ],
 "metadata": {
  "kernelspec": {
   "display_name": "Python 3 (ipykernel)",
   "language": "python",
   "name": "python3"
  },
  "language_info": {
   "codemirror_mode": {
    "name": "ipython",
    "version": 3
   },
   "file_extension": ".py",
   "mimetype": "text/x-python",
   "name": "python",
   "nbconvert_exporter": "python",
   "pygments_lexer": "ipython3",
   "version": "3.11.5"
  }
 },
 "nbformat": 4,
 "nbformat_minor": 5
}
