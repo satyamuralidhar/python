{
 "cells": [
  {
   "cell_type": "code",
   "execution_count": 1,
   "id": "800e6f49",
   "metadata": {},
   "outputs": [],
   "source": [
    "lst = []\n",
    "\n",
    "def square(num):\n",
    "    for array in num:\n",
    "        lst.append(array*array)\n",
    "    return lst"
   ]
  },
  {
   "cell_type": "code",
   "execution_count": 2,
   "id": "ddea5e11",
   "metadata": {},
   "outputs": [],
   "source": [
    "demo = [1,3,4,5,7,8,9,88]"
   ]
  },
  {
   "cell_type": "code",
   "execution_count": 3,
   "id": "e6d25dc2",
   "metadata": {},
   "outputs": [
    {
     "data": {
      "text/plain": [
       "[1, 9, 16, 25, 49, 64, 81, 7744]"
      ]
     },
     "execution_count": 3,
     "metadata": {},
     "output_type": "execute_result"
    }
   ],
   "source": [
    "square(demo)"
   ]
  },
  {
   "cell_type": "code",
   "execution_count": 7,
   "id": "52bfbd52",
   "metadata": {},
   "outputs": [
    {
     "data": {
      "text/plain": [
       "[1, 9, 16, 25, 49, 64, 81, 7744]"
      ]
     },
     "execution_count": 7,
     "metadata": {},
     "output_type": "execute_result"
    }
   ],
   "source": [
    "#list comprehension\n",
    "demo = [1,3,4,5,7,8,9,88] \n",
    "[array*array for array in demo]\n"
   ]
  },
  {
   "cell_type": "code",
   "execution_count": 13,
   "id": "a017f57b",
   "metadata": {},
   "outputs": [],
   "source": [
    "lst = []\n",
    "def square_of_even(num):\n",
    "    for array in num:\n",
    "        if array%2==0:\n",
    "            lst.append(array*array)\n",
    "    return lst\n"
   ]
  },
  {
   "cell_type": "code",
   "execution_count": 14,
   "id": "c6f90bfd",
   "metadata": {},
   "outputs": [],
   "source": [
    "demo = [1,3,4,5,7,8,9,88] "
   ]
  },
  {
   "cell_type": "code",
   "execution_count": 15,
   "id": "de596bb0",
   "metadata": {},
   "outputs": [
    {
     "data": {
      "text/plain": [
       "[16, 64, 7744]"
      ]
     },
     "execution_count": 15,
     "metadata": {},
     "output_type": "execute_result"
    }
   ],
   "source": [
    "square_of_even(demo)"
   ]
  },
  {
   "cell_type": "code",
   "execution_count": 16,
   "id": "9c4c5560",
   "metadata": {},
   "outputs": [
    {
     "data": {
      "text/plain": [
       "[16, 64, 7744]"
      ]
     },
     "execution_count": 16,
     "metadata": {},
     "output_type": "execute_result"
    }
   ],
   "source": [
    "[array*array for array in demo if array%2==0]"
   ]
  },
  {
   "cell_type": "code",
   "execution_count": null,
   "id": "bed1a9a3",
   "metadata": {},
   "outputs": [],
   "source": []
  },
  {
   "cell_type": "code",
   "execution_count": null,
   "id": "f101cd1a",
   "metadata": {},
   "outputs": [],
   "source": []
  }
 ],
 "metadata": {
  "kernelspec": {
   "display_name": "Python 3 (ipykernel)",
   "language": "python",
   "name": "python3"
  },
  "language_info": {
   "codemirror_mode": {
    "name": "ipython",
    "version": 3
   },
   "file_extension": ".py",
   "mimetype": "text/x-python",
   "name": "python",
   "nbconvert_exporter": "python",
   "pygments_lexer": "ipython3",
   "version": "3.11.5"
  }
 },
 "nbformat": 4,
 "nbformat_minor": 5
}
