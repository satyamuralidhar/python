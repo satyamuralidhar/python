{
 "cells": [
  {
   "cell_type": "code",
   "execution_count": 1,
   "id": "5f0c68fa",
   "metadata": {},
   "outputs": [],
   "source": [
    "#functions are nothing but we can use it for reuseablility\n",
    "\n",
    "# even and odd funtion\n",
    "\n",
    "def even_odd(num):\n",
    "    if num%2==0: \n",
    "        return \"even number\"\n",
    "    return \"odd number\"\n"
   ]
  },
  {
   "cell_type": "code",
   "execution_count": 2,
   "id": "145be085",
   "metadata": {},
   "outputs": [
    {
     "data": {
      "text/plain": [
       "'odd number'"
      ]
     },
     "execution_count": 2,
     "metadata": {},
     "output_type": "execute_result"
    }
   ],
   "source": [
    "even_odd(21)"
   ]
  },
  {
   "cell_type": "code",
   "execution_count": 3,
   "id": "9164243b",
   "metadata": {},
   "outputs": [],
   "source": [
    "#using print \n",
    "\n",
    "def even_odd(num):\n",
    "    if num%2==0:\n",
    "        print(\"even\")\n",
    "    else:\n",
    "        print(\"odd\")"
   ]
  },
  {
   "cell_type": "code",
   "execution_count": 4,
   "id": "407792d5",
   "metadata": {},
   "outputs": [
    {
     "name": "stdout",
     "output_type": "stream",
     "text": [
      "even\n"
     ]
    }
   ],
   "source": [
    "even_odd(10)"
   ]
  },
  {
   "cell_type": "code",
   "execution_count": 5,
   "id": "35a15816",
   "metadata": {},
   "outputs": [
    {
     "name": "stdout",
     "output_type": "stream",
     "text": [
      "odd\n"
     ]
    }
   ],
   "source": [
    "even_odd(11)"
   ]
  },
  {
   "cell_type": "code",
   "execution_count": 6,
   "id": "3d612cbe",
   "metadata": {},
   "outputs": [],
   "source": [
    "# difference between print and return \n",
    "#Note: main difference between return and print function as a varaible will work on return only not on print.\n",
    "#print\n",
    "def hello():\n",
    "    print(\"Hi\")"
   ]
  },
  {
   "cell_type": "code",
   "execution_count": 7,
   "id": "bd82d64b",
   "metadata": {},
   "outputs": [
    {
     "name": "stdout",
     "output_type": "stream",
     "text": [
      "Hi\n"
     ]
    }
   ],
   "source": [
    "hello()"
   ]
  },
  {
   "cell_type": "code",
   "execution_count": 8,
   "id": "0f67802b",
   "metadata": {},
   "outputs": [
    {
     "name": "stdout",
     "output_type": "stream",
     "text": [
      "Hi\n"
     ]
    }
   ],
   "source": [
    "value=hello()"
   ]
  },
  {
   "cell_type": "code",
   "execution_count": 9,
   "id": "5ef6d45d",
   "metadata": {},
   "outputs": [
    {
     "name": "stdout",
     "output_type": "stream",
     "text": [
      "None\n"
     ]
    }
   ],
   "source": [
    "print(value)"
   ]
  },
  {
   "cell_type": "code",
   "execution_count": 10,
   "id": "902a0cd0",
   "metadata": {},
   "outputs": [],
   "source": [
    "#return\n",
    "\n",
    "def hello():\n",
    "    return \"Hi\""
   ]
  },
  {
   "cell_type": "code",
   "execution_count": 11,
   "id": "42f8f6f5",
   "metadata": {},
   "outputs": [
    {
     "data": {
      "text/plain": [
       "'Hi'"
      ]
     },
     "execution_count": 11,
     "metadata": {},
     "output_type": "execute_result"
    }
   ],
   "source": [
    "hello()"
   ]
  },
  {
   "cell_type": "code",
   "execution_count": 12,
   "id": "ebb53811",
   "metadata": {},
   "outputs": [],
   "source": [
    "value=hello()"
   ]
  },
  {
   "cell_type": "code",
   "execution_count": 13,
   "id": "ef1a69a3",
   "metadata": {},
   "outputs": [
    {
     "name": "stdout",
     "output_type": "stream",
     "text": [
      "Hi\n"
     ]
    }
   ],
   "source": [
    "print(value)"
   ]
  },
  {
   "cell_type": "code",
   "execution_count": 14,
   "id": "f21b5405",
   "metadata": {},
   "outputs": [],
   "source": [
    "def add(num1,num2):\n",
    "    return num1+num2"
   ]
  },
  {
   "cell_type": "code",
   "execution_count": 15,
   "id": "620c49d7",
   "metadata": {},
   "outputs": [
    {
     "data": {
      "text/plain": [
       "30"
      ]
     },
     "execution_count": 15,
     "metadata": {},
     "output_type": "execute_result"
    }
   ],
   "source": [
    "add(10,20)"
   ]
  },
  {
   "cell_type": "code",
   "execution_count": 16,
   "id": "ef786509",
   "metadata": {},
   "outputs": [],
   "source": [
    "#positional and keyword args\n",
    "#age=29 provided as default value if we dont passed on execution it will automatically take if we want to override iit we can\n",
    "def hello(name,age=29):\n",
    "    print(\"My name is {} and age is {}\".format(name,age))\n",
    "    "
   ]
  },
  {
   "cell_type": "code",
   "execution_count": 17,
   "id": "59ec3ec6",
   "metadata": {},
   "outputs": [
    {
     "name": "stdout",
     "output_type": "stream",
     "text": [
      "My name is satya and age is 29\n"
     ]
    }
   ],
   "source": [
    "hello(\"satya\")"
   ]
  },
  {
   "cell_type": "code",
   "execution_count": 18,
   "id": "89124e65",
   "metadata": {},
   "outputs": [
    {
     "name": "stdout",
     "output_type": "stream",
     "text": [
      "My name is Murali and age is 28\n"
     ]
    }
   ],
   "source": [
    "hello(\"Murali\",28)"
   ]
  },
  {
   "cell_type": "code",
   "execution_count": 19,
   "id": "0ea8f2cf",
   "metadata": {},
   "outputs": [],
   "source": [
    "#positional and keyword\n",
    "def hello(*args,**kwargs):\n",
    "    # *args is positional **kwargs are keywordargs\n",
    "    print(args)\n",
    "    print(kwargs)\n",
    "    "
   ]
  },
  {
   "cell_type": "code",
   "execution_count": 20,
   "id": "5592b058",
   "metadata": {},
   "outputs": [
    {
     "name": "stdout",
     "output_type": "stream",
     "text": [
      "('Satya', 'Muralidhar')\n",
      "{'age': 29, 'dob': 1994}\n"
     ]
    }
   ],
   "source": [
    "hello(\"Satya\",\"Muralidhar\",age=29,dob=1994)"
   ]
  },
  {
   "cell_type": "code",
   "execution_count": 21,
   "id": "afe81e3d",
   "metadata": {},
   "outputs": [],
   "source": [
    "lst=['Satya', 'Muralidhar']\n",
    "dicto={'age': 29, 'dob': 1994}"
   ]
  },
  {
   "cell_type": "code",
   "execution_count": 22,
   "id": "70a262e4",
   "metadata": {},
   "outputs": [
    {
     "name": "stdout",
     "output_type": "stream",
     "text": [
      "(['Satya', 'Muralidhar'], {'age': 29, 'dob': 1994})\n",
      "{}\n"
     ]
    }
   ],
   "source": [
    "hello(lst,dicto)"
   ]
  },
  {
   "cell_type": "code",
   "execution_count": 23,
   "id": "c0f48ed9",
   "metadata": {},
   "outputs": [
    {
     "name": "stdout",
     "output_type": "stream",
     "text": [
      "('Satya', 'Muralidhar')\n",
      "{'age': 29, 'dob': 1994}\n"
     ]
    }
   ],
   "source": [
    "#above o/p will not given args and kwargs to fix this use below\n",
    "\n",
    "hello(*lst,**dicto)"
   ]
  },
  {
   "cell_type": "code",
   "execution_count": null,
   "id": "c6595073",
   "metadata": {},
   "outputs": [],
   "source": []
  },
  {
   "cell_type": "code",
   "execution_count": 24,
   "id": "ffabd986",
   "metadata": {},
   "outputs": [],
   "source": [
    "def evenodd_sum(num):\n",
    "    evensum = 0\n",
    "    oddsum = 0\n",
    "    for i in num:\n",
    "        if i%2==0:\n",
    "            evensum = evensum + i\n",
    "        else:\n",
    "            oddsum = oddsum + i\n",
    "    return evensum , oddsum\n",
    "    "
   ]
  },
  {
   "cell_type": "code",
   "execution_count": 25,
   "id": "ac755b50",
   "metadata": {},
   "outputs": [],
   "source": [
    "lst = [1,2,3,4,5,6,7,8,9,10,11,12,13,14,15]"
   ]
  },
  {
   "cell_type": "code",
   "execution_count": 26,
   "id": "4d302563",
   "metadata": {},
   "outputs": [
    {
     "data": {
      "text/plain": [
       "(56, 64)"
      ]
     },
     "execution_count": 26,
     "metadata": {},
     "output_type": "execute_result"
    }
   ],
   "source": [
    "evenodd_sum(lst)"
   ]
  },
  {
   "cell_type": "markdown",
   "id": "2a61a752",
   "metadata": {},
   "source": [
    "## Lambda"
   ]
  },
  {
   "cell_type": "code",
   "execution_count": 27,
   "id": "b381f0e8",
   "metadata": {},
   "outputs": [],
   "source": [
    "def add(a,b):\n",
    "    return a+b"
   ]
  },
  {
   "cell_type": "code",
   "execution_count": 28,
   "id": "fe0acbe8",
   "metadata": {},
   "outputs": [
    {
     "data": {
      "text/plain": [
       "16"
      ]
     },
     "execution_count": 28,
     "metadata": {},
     "output_type": "execute_result"
    }
   ],
   "source": [
    "add(10,6)"
   ]
  },
  {
   "cell_type": "code",
   "execution_count": 29,
   "id": "d70a55ce",
   "metadata": {},
   "outputs": [],
   "source": [
    "#syntax\n",
    "#lambda <i/p keywords>:<type of operation>\n",
    "addition=lambda a,b:a+b\n"
   ]
  },
  {
   "cell_type": "code",
   "execution_count": 30,
   "id": "b6c4104a",
   "metadata": {},
   "outputs": [
    {
     "data": {
      "text/plain": [
       "27"
      ]
     },
     "execution_count": 30,
     "metadata": {},
     "output_type": "execute_result"
    }
   ],
   "source": [
    "addition(12,15)"
   ]
  },
  {
   "cell_type": "code",
   "execution_count": 31,
   "id": "446ffa90",
   "metadata": {},
   "outputs": [],
   "source": [
    "def even(num):\n",
    "    if num%2==0:\n",
    "        return True"
   ]
  },
  {
   "cell_type": "code",
   "execution_count": 32,
   "id": "c3f0ff19",
   "metadata": {},
   "outputs": [
    {
     "data": {
      "text/plain": [
       "True"
      ]
     },
     "execution_count": 32,
     "metadata": {},
     "output_type": "execute_result"
    }
   ],
   "source": [
    "even(24)"
   ]
  },
  {
   "cell_type": "code",
   "execution_count": 33,
   "id": "10f33d4a",
   "metadata": {},
   "outputs": [],
   "source": [
    "even = lambda num : num%2==0"
   ]
  },
  {
   "cell_type": "code",
   "execution_count": 34,
   "id": "509125a4",
   "metadata": {},
   "outputs": [
    {
     "data": {
      "text/plain": [
       "False"
      ]
     },
     "execution_count": 34,
     "metadata": {},
     "output_type": "execute_result"
    }
   ],
   "source": [
    "even(25)"
   ]
  },
  {
   "cell_type": "code",
   "execution_count": 35,
   "id": "ae8ed804",
   "metadata": {},
   "outputs": [],
   "source": [
    "addition = lambda x,y,z : x+y+z"
   ]
  },
  {
   "cell_type": "code",
   "execution_count": 36,
   "id": "9814d8fd",
   "metadata": {},
   "outputs": [
    {
     "data": {
      "text/plain": [
       "45"
      ]
     },
     "execution_count": 36,
     "metadata": {},
     "output_type": "execute_result"
    }
   ],
   "source": [
    "addition(10,15,20)"
   ]
  },
  {
   "cell_type": "code",
   "execution_count": 37,
   "id": "4e28254a",
   "metadata": {},
   "outputs": [
    {
     "data": {
      "text/plain": [
       "0"
      ]
     },
     "execution_count": 37,
     "metadata": {},
     "output_type": "execute_result"
    }
   ],
   "source": [
    "#default values in lambda\n",
    "\n",
    "subtraction = lambda x,y,z=30 : x-y-z\n",
    "subtraction(50,20)"
   ]
  },
  {
   "cell_type": "markdown",
   "id": "5bcc2dd1",
   "metadata": {},
   "source": [
    "## map function"
   ]
  },
  {
   "cell_type": "code",
   "execution_count": 38,
   "id": "c737e6ee",
   "metadata": {},
   "outputs": [],
   "source": [
    "def even_or_odd(num):\n",
    "    if num%2==0:\n",
    "        return \"The  number {} is Even\".format(num)\n",
    "    else:\n",
    "        return \"The number {} is Odd\".format(num)"
   ]
  },
  {
   "cell_type": "code",
   "execution_count": 39,
   "id": "2ede1412",
   "metadata": {},
   "outputs": [
    {
     "data": {
      "text/plain": [
       "'The number 25 is Odd'"
      ]
     },
     "execution_count": 39,
     "metadata": {},
     "output_type": "execute_result"
    }
   ],
   "source": [
    "even_or_odd(25)"
   ]
  },
  {
   "cell_type": "code",
   "execution_count": 40,
   "id": "4cbd7881",
   "metadata": {},
   "outputs": [],
   "source": [
    "lst = [1,2,3,4,5,6,7,8,9,50,78,85]"
   ]
  },
  {
   "cell_type": "code",
   "execution_count": 41,
   "id": "2ff164a4",
   "metadata": {},
   "outputs": [
    {
     "ename": "TypeError",
     "evalue": "unsupported operand type(s) for %: 'list' and 'int'",
     "output_type": "error",
     "traceback": [
      "\u001b[1;31m---------------------------------------------------------------------------\u001b[0m",
      "\u001b[1;31mTypeError\u001b[0m                                 Traceback (most recent call last)",
      "Cell \u001b[1;32mIn[41], line 1\u001b[0m\n\u001b[1;32m----> 1\u001b[0m even_or_odd(lst)\n",
      "Cell \u001b[1;32mIn[38], line 2\u001b[0m, in \u001b[0;36meven_or_odd\u001b[1;34m(num)\u001b[0m\n\u001b[0;32m      1\u001b[0m \u001b[38;5;28;01mdef\u001b[39;00m \u001b[38;5;21meven_or_odd\u001b[39m(num):\n\u001b[1;32m----> 2\u001b[0m     \u001b[38;5;28;01mif\u001b[39;00m num\u001b[38;5;241m%\u001b[39m\u001b[38;5;241m2\u001b[39m\u001b[38;5;241m==\u001b[39m\u001b[38;5;241m0\u001b[39m:\n\u001b[0;32m      3\u001b[0m         \u001b[38;5;28;01mreturn\u001b[39;00m \u001b[38;5;124m\"\u001b[39m\u001b[38;5;124mThe  number \u001b[39m\u001b[38;5;132;01m{}\u001b[39;00m\u001b[38;5;124m is Even\u001b[39m\u001b[38;5;124m\"\u001b[39m\u001b[38;5;241m.\u001b[39mformat(num)\n\u001b[0;32m      4\u001b[0m     \u001b[38;5;28;01melse\u001b[39;00m:\n",
      "\u001b[1;31mTypeError\u001b[0m: unsupported operand type(s) for %: 'list' and 'int'"
     ]
    }
   ],
   "source": [
    "even_or_odd(lst)"
   ]
  },
  {
   "cell_type": "markdown",
   "id": "05b0818e",
   "metadata": {},
   "source": [
    "**problem is that we cant iterate above list funtion we can use loop or we can use map funtion to iterate the list using above funtion**\n",
    "\n",
    "SYNTAX:\n",
    "--------\n",
    "\n",
    "map(func , *iterables)\n",
    "\n",
    "\n",
    "\n"
   ]
  },
  {
   "cell_type": "code",
   "execution_count": null,
   "id": "3c961452",
   "metadata": {},
   "outputs": [],
   "source": [
    "map(even_or_odd,lst)"
   ]
  },
  {
   "cell_type": "markdown",
   "id": "ea5aa78b",
   "metadata": {},
   "source": [
    "**we can convert into list to iterable**"
   ]
  },
  {
   "cell_type": "code",
   "execution_count": null,
   "id": "31b27b18",
   "metadata": {},
   "outputs": [],
   "source": [
    "list(map(even_or_odd,lst))"
   ]
  },
  {
   "cell_type": "markdown",
   "id": "a30bd5ae",
   "metadata": {},
   "source": [
    "## Filter Function"
   ]
  },
  {
   "cell_type": "code",
   "execution_count": 42,
   "id": "094b4229",
   "metadata": {},
   "outputs": [],
   "source": [
    "def even(num):\n",
    "    if num%2==0:\n",
    "        return True"
   ]
  },
  {
   "cell_type": "code",
   "execution_count": 43,
   "id": "b9953730",
   "metadata": {},
   "outputs": [
    {
     "data": {
      "text/plain": [
       "True"
      ]
     },
     "execution_count": 43,
     "metadata": {},
     "output_type": "execute_result"
    }
   ],
   "source": [
    "even(10)"
   ]
  },
  {
   "cell_type": "code",
   "execution_count": 44,
   "id": "a9892868",
   "metadata": {},
   "outputs": [],
   "source": [
    "lst = [1,2,3,4,5,6,7,8,9,50,78,85]"
   ]
  },
  {
   "cell_type": "code",
   "execution_count": 45,
   "id": "dd97d173",
   "metadata": {},
   "outputs": [
    {
     "data": {
      "text/plain": [
       "<filter at 0x179ef2024a0>"
      ]
     },
     "execution_count": 45,
     "metadata": {},
     "output_type": "execute_result"
    }
   ],
   "source": [
    "filter(even,lst)"
   ]
  },
  {
   "cell_type": "code",
   "execution_count": 46,
   "id": "b8debb4c",
   "metadata": {},
   "outputs": [
    {
     "data": {
      "text/plain": [
       "[2, 4, 6, 8, 50, 78]"
      ]
     },
     "execution_count": 46,
     "metadata": {},
     "output_type": "execute_result"
    }
   ],
   "source": [
    "list(filter(even,lst))"
   ]
  },
  {
   "cell_type": "code",
   "execution_count": 47,
   "id": "5c2ceb30",
   "metadata": {},
   "outputs": [
    {
     "data": {
      "text/plain": [
       "[2, 4, 6, 8, 50, 78]"
      ]
     },
     "execution_count": 47,
     "metadata": {},
     "output_type": "execute_result"
    }
   ],
   "source": [
    "#or we can achive this using lambda function\n",
    "list(filter(lambda num : num%2==0 ,lst))\n"
   ]
  },
  {
   "cell_type": "code",
   "execution_count": 48,
   "id": "fea2f581",
   "metadata": {},
   "outputs": [
    {
     "data": {
      "text/plain": [
       "[False, True, False, True, False, True, False, True, False, True, True, False]"
      ]
     },
     "execution_count": 48,
     "metadata": {},
     "output_type": "execute_result"
    }
   ],
   "source": [
    "#similar way using map\n",
    "\n",
    "list(map(lambda num : num%2==0,lst))"
   ]
  },
  {
   "cell_type": "code",
   "execution_count": null,
   "id": "94953b7c",
   "metadata": {},
   "outputs": [],
   "source": []
  },
  {
   "cell_type": "code",
   "execution_count": null,
   "id": "f0ec4066",
   "metadata": {},
   "outputs": [],
   "source": []
  }
 ],
 "metadata": {
  "kernelspec": {
   "display_name": "Python 3 (ipykernel)",
   "language": "python",
   "name": "python3"
  },
  "language_info": {
   "codemirror_mode": {
    "name": "ipython",
    "version": 3
   },
   "file_extension": ".py",
   "mimetype": "text/x-python",
   "name": "python",
   "nbconvert_exporter": "python",
   "pygments_lexer": "ipython3",
   "version": "3.11.5"
  }
 },
 "nbformat": 4,
 "nbformat_minor": 5
}
