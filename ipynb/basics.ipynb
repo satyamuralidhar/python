{
 "cells": [
  {
   "cell_type": "code",
   "execution_count": 1,
   "id": "7d072195",
   "metadata": {},
   "outputs": [
    {
     "name": "stdout",
     "output_type": "stream",
     "text": [
      "Enter the user name: satyamuralidhar\n"
     ]
    }
   ],
   "source": [
    "username = \"satyamuralidhar\"\n",
    "print(f'Enter the user name: {username}')"
   ]
  },
  {
   "cell_type": "code",
   "execution_count": 2,
   "id": "1220c2d6",
   "metadata": {},
   "outputs": [
    {
     "name": "stdout",
     "output_type": "stream",
     "text": [
      "<class 'str'>\n",
      "<class 'int'>\n",
      "<class 'bool'>\n",
      "<class 'float'>\n"
     ]
    }
   ],
   "source": [
    "string = \"satya\"\n",
    "intiger = 10\n",
    "boolean = True\n",
    "floating = 5.9\n",
    "\n",
    "print(type(string))\n",
    "print(type(intiger))\n",
    "print(type(boolean))\n",
    "print(type(floating))\n"
   ]
  },
  {
   "cell_type": "code",
   "execution_count": 3,
   "id": "d28e07dc",
   "metadata": {},
   "outputs": [
    {
     "ename": "TypeError",
     "evalue": "unsupported operand type(s) for +: 'int' and 'str'",
     "output_type": "error",
     "traceback": [
      "\u001b[1;31m---------------------------------------------------------------------------\u001b[0m",
      "\u001b[1;31mTypeError\u001b[0m                                 Traceback (most recent call last)",
      "Cell \u001b[1;32mIn[3], line 2\u001b[0m\n\u001b[0;32m      1\u001b[0m \u001b[38;5;66;03m# note different types not do any functionality type error will come\u001b[39;00m\n\u001b[1;32m----> 2\u001b[0m adding\u001b[38;5;241m=\u001b[39m(\u001b[38;5;241m10\u001b[39m\u001b[38;5;241m+\u001b[39m\u001b[38;5;124m\"\u001b[39m\u001b[38;5;124m2\u001b[39m\u001b[38;5;124m\"\u001b[39m)\n\u001b[0;32m      3\u001b[0m \u001b[38;5;28mprint\u001b[39m(adding)\n",
      "\u001b[1;31mTypeError\u001b[0m: unsupported operand type(s) for +: 'int' and 'str'"
     ]
    }
   ],
   "source": [
    "# note different types not do any functionality type error will come\n",
    "adding=(10+\"2\")\n",
    "print(adding)"
   ]
  },
  {
   "cell_type": "code",
   "execution_count": null,
   "id": "8bd24bf8",
   "metadata": {},
   "outputs": [],
   "source": [
    "#arthematic operators\n",
    "\n",
    "print(10+2)\n",
    "print(5-3)\n",
    "print(17/3) #it will give float values \n",
    "print(17//3) # wont give float values\n",
    "print(10*8) # multiply\n",
    "print(2**5) #squre\n",
    "print(10/2) #divide"
   ]
  },
  {
   "cell_type": "code",
   "execution_count": 4,
   "id": "c7e731b0",
   "metadata": {},
   "outputs": [
    {
     "name": "stdout",
     "output_type": "stream",
     "text": [
      "88.0\n"
     ]
    }
   ],
   "source": [
    "#example senario 2 x (10+5)^2 ÷ 5 - 2 BODMAS Rule (Brackets, Orders, Division, Multiplication, Addition, Subtraction.)\n",
    "\n",
    "d = 2 * (10+5)**2 / 5 - 2\n",
    "print(d)"
   ]
  },
  {
   "cell_type": "code",
   "execution_count": 5,
   "id": "3b54596e",
   "metadata": {},
   "outputs": [
    {
     "name": "stdout",
     "output_type": "stream",
     "text": [
      "satyamuralidhar peddireddi\n"
     ]
    }
   ],
   "source": [
    "#string operations \n",
    "#string are mutable\n",
    "\n",
    "#concatination \n",
    "\n",
    "first_name = \"satyamuralidhar\"\n",
    "last_name = \"peddireddi\"\n",
    "fullname = first_name + ' ' + last_name\n",
    "print(fullname)"
   ]
  },
  {
   "cell_type": "code",
   "execution_count": 6,
   "id": "36e3fd8b",
   "metadata": {},
   "outputs": [
    {
     "name": "stdout",
     "output_type": "stream",
     "text": [
      "Hi This Is Satya\n",
      "hi this is satya\n",
      "['Hi', 'This', 'is', 'Satya']\n"
     ]
    }
   ],
   "source": [
    "#funtions on string operations\n",
    "dem = \"Hi This is Satya\"\n",
    "print(dem.title())\n",
    "print(dem.lower())\n",
    "print(dem.split())"
   ]
  },
  {
   "cell_type": "code",
   "execution_count": 7,
   "id": "3dc9fde7",
   "metadata": {},
   "outputs": [
    {
     "name": "stdout",
     "output_type": "stream",
     "text": [
      "Hi This is: Satya\n",
      "['Hi This is', ' Satya']\n"
     ]
    }
   ],
   "source": [
    "dem2 = \"Hi This is: Satya\"\n",
    "print(dem2)\n",
    "# i do want separate before and after \":\"\n",
    "\n",
    "print(dem2.split(':'))"
   ]
  },
  {
   "cell_type": "code",
   "execution_count": 8,
   "id": "2e29a40b",
   "metadata": {},
   "outputs": [
    {
     "name": "stdout",
     "output_type": "stream",
     "text": [
      "H\n",
      "Hi This is\n",
      "a\n",
      " Satya\n"
     ]
    }
   ],
   "source": [
    "#indexing\n",
    "print(dem2[0])\n",
    "print(dem2[0:10])\n",
    "print(dem2[-1:])\n",
    "print(dem2[-6:])"
   ]
  },
  {
   "cell_type": "markdown",
   "id": "a15736b4",
   "metadata": {},
   "source": [
    "# List"
   ]
  },
  {
   "cell_type": "code",
   "execution_count": 9,
   "id": "a839cc4e",
   "metadata": {},
   "outputs": [
    {
     "name": "stdout",
     "output_type": "stream",
     "text": [
      "['Ramana', 'Murali', 'Satish', 'Mohan']\n",
      "----------\n",
      "Ramana\n",
      "----------\n",
      "Mohan\n",
      "------------\n",
      "['Ramana', 'Murali']\n"
     ]
    }
   ],
   "source": [
    "#lists\n",
    "userlist = [\"Ramana\",\"Murali\",\"Satish\",\"Mohan\"]\n",
    "print(userlist)\n",
    "print(\"----------\")\n",
    "print(userlist[0])\n",
    "print(\"----------\")\n",
    "print(userlist[-1])\n",
    "print(\"------------\")\n",
    "print(userlist[0:2])\n",
    "      "
   ]
  },
  {
   "cell_type": "code",
   "execution_count": 10,
   "id": "211b9b3f",
   "metadata": {},
   "outputs": [
    {
     "name": "stdout",
     "output_type": "stream",
     "text": [
      "['Ramana', 'Murali', 'Satish', 'Mohan', 'Subbu']\n"
     ]
    }
   ],
   "source": [
    "userlist.append(\"Subbu\")\n",
    "print(userlist) "
   ]
  },
  {
   "cell_type": "code",
   "execution_count": 11,
   "id": "94d2f86a",
   "metadata": {},
   "outputs": [
    {
     "name": "stdout",
     "output_type": "stream",
     "text": [
      "['Ramana', 'Murali', 'Satish', 'Mohan']\n"
     ]
    }
   ],
   "source": [
    "userlist.remove(\"Subbu\")\n",
    "print(userlist)"
   ]
  },
  {
   "cell_type": "code",
   "execution_count": 12,
   "id": "a51882c4",
   "metadata": {},
   "outputs": [
    {
     "data": {
      "text/plain": [
       "4"
      ]
     },
     "execution_count": 12,
     "metadata": {},
     "output_type": "execute_result"
    }
   ],
   "source": [
    "len(userlist)"
   ]
  },
  {
   "cell_type": "code",
   "execution_count": 13,
   "id": "a1333b87",
   "metadata": {},
   "outputs": [
    {
     "name": "stdout",
     "output_type": "stream",
     "text": [
      "['Ramana', 'satya', 'Satish', 'Mohan']\n"
     ]
    }
   ],
   "source": [
    "#modify values from a list\n",
    "userlist[1] = \"satya\"\n",
    "#updting value murali to satya\n",
    "print(userlist)"
   ]
  },
  {
   "cell_type": "code",
   "execution_count": 14,
   "id": "d73f2fb3",
   "metadata": {},
   "outputs": [
    {
     "name": "stdout",
     "output_type": "stream",
     "text": [
      "['Ramana', 'murali', 'satya', 'Satish', 'Mohan']\n"
     ]
    }
   ],
   "source": [
    "#adding item to list at certain position\n",
    "userlist.insert(1,'murali')\n",
    "print(userlist)"
   ]
  },
  {
   "cell_type": "code",
   "execution_count": 15,
   "id": "50002382",
   "metadata": {},
   "outputs": [
    {
     "name": "stdout",
     "output_type": "stream",
     "text": [
      "['Ramana', 'satya', 'Satish', 'Mohan']\n"
     ]
    }
   ],
   "source": [
    "#delete value from list \n",
    "del userlist[1]\n",
    "print(userlist)\n"
   ]
  },
  {
   "cell_type": "code",
   "execution_count": 16,
   "id": "801df199",
   "metadata": {},
   "outputs": [
    {
     "name": "stdout",
     "output_type": "stream",
     "text": [
      "['Mohan', 'Ramana', 'Satish', 'satya']\n",
      "['satya', 'Satish', 'Ramana', 'Mohan']\n",
      "['Mohan', 'Ramana', 'Satish', 'satya']\n"
     ]
    }
   ],
   "source": [
    "#list storing\n",
    "userlist.sort() # alpphabetical\n",
    "print(userlist)\n",
    "userlist.sort(reverse=True)\n",
    "print(userlist)\n",
    "userlist.reverse()\n",
    "print(userlist)"
   ]
  },
  {
   "cell_type": "code",
   "execution_count": 17,
   "id": "7589a53d",
   "metadata": {},
   "outputs": [
    {
     "data": {
      "text/plain": [
       "'Mohan'"
      ]
     },
     "execution_count": 17,
     "metadata": {},
     "output_type": "execute_result"
    }
   ],
   "source": [
    "#delete values using pop : pop will also show o/p it will delete one by one\n",
    "\n",
    "userlist.pop(0)"
   ]
  },
  {
   "cell_type": "code",
   "execution_count": 18,
   "id": "6a2eebd0",
   "metadata": {},
   "outputs": [
    {
     "data": {
      "text/plain": [
       "'satya'"
      ]
     },
     "execution_count": 18,
     "metadata": {},
     "output_type": "execute_result"
    }
   ],
   "source": [
    "userlist.pop()"
   ]
  },
  {
   "cell_type": "code",
   "execution_count": 19,
   "id": "fd805944",
   "metadata": {},
   "outputs": [
    {
     "data": {
      "text/plain": [
       "'Satish'"
      ]
     },
     "execution_count": 19,
     "metadata": {},
     "output_type": "execute_result"
    }
   ],
   "source": [
    "userlist.pop()"
   ]
  },
  {
   "cell_type": "code",
   "execution_count": 20,
   "id": "591583d7",
   "metadata": {},
   "outputs": [
    {
     "data": {
      "text/plain": [
       "'Ramana'"
      ]
     },
     "execution_count": 20,
     "metadata": {},
     "output_type": "execute_result"
    }
   ],
   "source": [
    "userlist.pop()"
   ]
  },
  {
   "cell_type": "code",
   "execution_count": 21,
   "id": "45282b0a",
   "metadata": {},
   "outputs": [
    {
     "ename": "IndexError",
     "evalue": "pop from empty list",
     "output_type": "error",
     "traceback": [
      "\u001b[1;31m---------------------------------------------------------------------------\u001b[0m",
      "\u001b[1;31mIndexError\u001b[0m                                Traceback (most recent call last)",
      "Cell \u001b[1;32mIn[21], line 1\u001b[0m\n\u001b[1;32m----> 1\u001b[0m userlist\u001b[38;5;241m.\u001b[39mpop()\n",
      "\u001b[1;31mIndexError\u001b[0m: pop from empty list"
     ]
    }
   ],
   "source": [
    "userlist.pop()\n"
   ]
  },
  {
   "cell_type": "code",
   "execution_count": 22,
   "id": "8bed3ee2",
   "metadata": {},
   "outputs": [
    {
     "name": "stdout",
     "output_type": "stream",
     "text": [
      "[20, 33, 80, 88, 99, 76]\n",
      "maxium marks: 99\n",
      "minimum marks: 20\n",
      "sum of marks: 396\n"
     ]
    }
   ],
   "source": [
    "#min and max\n",
    "marks = [20,33,80,88,99,76]\n",
    "print(marks)\n",
    "print(f'maxium marks: {max(marks)}')\n",
    "print(f'minimum marks: {min(marks)}')\n",
    "print(f'sum of marks: {sum(marks)}')\n"
   ]
  },
  {
   "cell_type": "markdown",
   "id": "0242c194",
   "metadata": {},
   "source": []
  },
  {
   "cell_type": "code",
   "execution_count": null,
   "id": "cd989af8",
   "metadata": {},
   "outputs": [],
   "source": []
  }
 ],
 "metadata": {
  "kernelspec": {
   "display_name": "Python 3 (ipykernel)",
   "language": "python",
   "name": "python3"
  },
  "language_info": {
   "codemirror_mode": {
    "name": "ipython",
    "version": 3
   },
   "file_extension": ".py",
   "mimetype": "text/x-python",
   "name": "python",
   "nbconvert_exporter": "python",
   "pygments_lexer": "ipython3",
   "version": "3.11.5"
  }
 },
 "nbformat": 4,
 "nbformat_minor": 5
}
